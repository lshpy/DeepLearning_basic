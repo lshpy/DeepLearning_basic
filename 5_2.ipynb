{
  "nbformat": 4,
  "nbformat_minor": 0,
  "metadata": {
    "colab": {
      "provenance": [],
      "authorship_tag": "ABX9TyPr9yoyh3JyWGYGaecCI8QA",
      "include_colab_link": true
    },
    "kernelspec": {
      "name": "python3",
      "display_name": "Python 3"
    },
    "language_info": {
      "name": "python"
    }
  },
  "cells": [
    {
      "cell_type": "markdown",
      "metadata": {
        "id": "view-in-github",
        "colab_type": "text"
      },
      "source": [
        "<a href=\"https://colab.research.google.com/github/lshpy/DeepLearning_basic/blob/main/5_2.ipynb\" target=\"_parent\"><img src=\"https://colab.research.google.com/assets/colab-badge.svg\" alt=\"Open In Colab\"/></a>"
      ]
    },
    {
      "cell_type": "markdown",
      "source": [
        "## 교차 검증과 그리드 서치(어려움 주의)\n"
      ],
      "metadata": {
        "id": "4yMpNFbT6G0v"
      }
    },
    {
      "cell_type": "code",
      "execution_count": 28,
      "metadata": {
        "id": "BwJkWxPW59d7"
      },
      "outputs": [],
      "source": [
        "# 문제점: 테스트 세트를 자주 사용하게 되면 결국 테스트 세트에 잘 맞는 모델이 만들어지는 것\n",
        "# 테스트 세트는 가장 마지막에 딱 한번 사용하는 것이 가장 바람직하다!\n",
        "\n",
        "# 테스트 세트 말고 모델의 과소/과대적합을 판단할 기준: 검증 세트\n"
      ]
    },
    {
      "cell_type": "markdown",
      "source": [
        "![스크린샷 2024-08-09 111546.png](data:image/png;base64,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)"
      ],
      "metadata": {
        "id": "hsIQtcAN68YU"
      }
    },
    {
      "cell_type": "code",
      "source": [
        "#1. 훈련세트에서 모델을 훈련, 검증세트에서 평가\n",
        "#2. 매개변술ㄹ 바꾸어 가면서 가장 좋은 모델을 선택\n",
        "#3. 훈련세트랑 검증세트를 합쳐서 전체 훈련데이터에서 모델을 다시 훈련\n",
        "#4. 마지막 테스트 세트에서 최종점수를 평가"
      ],
      "metadata": {
        "id": "LV9F9xzE7AHI"
      },
      "execution_count": 29,
      "outputs": []
    },
    {
      "cell_type": "code",
      "source": [
        "import pandas as pd\n",
        "wine  = pd.read_csv('http://bit.ly/wine_csv_data')"
      ],
      "metadata": {
        "id": "8F80C9ZX8Bab"
      },
      "execution_count": 30,
      "outputs": []
    },
    {
      "cell_type": "code",
      "source": [
        "data = wine.iloc[:, :-1].to_numpy()\n",
        "target = wine['class'].to_numpy()"
      ],
      "metadata": {
        "id": "Jxl-ZS1z8JGD"
      },
      "execution_count": 31,
      "outputs": []
    },
    {
      "cell_type": "code",
      "source": [
        "# 데이터 분할 (훈련, 테스트)\n",
        "\n",
        "from sklearn.model_selection import train_test_split\n",
        "\n",
        "train_input, test_input, train_target, test_target = train_test_split(\n",
        "    data, target, test_size=0.2,random_state=42\n",
        ")"
      ],
      "metadata": {
        "id": "4leumwpN8WvS"
      },
      "execution_count": 32,
      "outputs": []
    },
    {
      "cell_type": "code",
      "source": [
        "# 데이터 분할2(훈련, 검증)\n",
        "\n",
        "sub_input, val_input, sub_target, val_target = train_test_split(\n",
        "    train_input, train_target, test_size = 0.2, random_state=42)"
      ],
      "metadata": {
        "id": "swJ1MvHW8s9h"
      },
      "execution_count": 33,
      "outputs": []
    },
    {
      "cell_type": "code",
      "source": [
        "print(sub_input.shape, val_input.shape)\n",
        "\n",
        "# sub, val : (훈련, 검증)"
      ],
      "metadata": {
        "colab": {
          "base_uri": "https://localhost:8080/"
        },
        "id": "vETGIfCr9QTd",
        "outputId": "eba54500-2dc7-4cbb-b1b2-2aa73e5cd78a"
      },
      "execution_count": 34,
      "outputs": [
        {
          "output_type": "stream",
          "name": "stdout",
          "text": [
            "(4157, 3) (1040, 3)\n"
          ]
        }
      ]
    },
    {
      "cell_type": "code",
      "source": [
        "from sklearn.tree import DecisionTreeClassifier\n",
        "\n",
        "dt = DecisionTreeClassifier()\n",
        "\n",
        "dt.fit(sub_input, sub_target)\n",
        "\n",
        "print(dt.score(sub_input, sub_target))\n",
        "print(dt.score(val_input, val_target))"
      ],
      "metadata": {
        "colab": {
          "base_uri": "https://localhost:8080/"
        },
        "id": "2X_K2pEm9bDz",
        "outputId": "580c75da-0179-45e4-8155-ecc224a9d602"
      },
      "execution_count": 35,
      "outputs": [
        {
          "output_type": "stream",
          "name": "stdout",
          "text": [
            "0.9971133028626413\n",
            "0.8596153846153847\n"
          ]
        }
      ]
    },
    {
      "cell_type": "markdown",
      "source": [
        "교차 검증\n",
        "\n",
        "검증세트를 꼐어 내어 평가하는 과정을 여러번 반복"
      ],
      "metadata": {
        "id": "xrznfcxj-D9L"
      }
    },
    {
      "cell_type": "code",
      "source": [
        "# cross_validate\n",
        "# 1. 먼저 평가할 모델 객체를 첫번째 매개변수로 전달\n",
        "# 2. 직접 검증세트를 떼어내지 않고 훈련세트 전체를 전달"
      ],
      "metadata": {
        "id": "Zh2-iOgH9xwv"
      },
      "execution_count": 36,
      "outputs": []
    },
    {
      "cell_type": "code",
      "source": [
        "from sklearn.model_selection import cross_validate\n",
        "\n",
        "scores = cross_validate(dt, train_input, train_target)\n",
        "print(scores)\n",
        "\n",
        "# fit _time : 훈련시간\n",
        "# score_time : 검증시간\n",
        "# test_socre : 5-폴드 교차 검증\n",
        "# cv매개변수에서 폴드 수를 변경할 수 있음\n"
      ],
      "metadata": {
        "colab": {
          "base_uri": "https://localhost:8080/"
        },
        "id": "JKDxokgV-J5n",
        "outputId": "d9cf6607-166a-4e46-8901-9f429313e448"
      },
      "execution_count": 37,
      "outputs": [
        {
          "output_type": "stream",
          "name": "stdout",
          "text": [
            "{'fit_time': array([0.00840807, 0.00819373, 0.00848508, 0.0087347 , 0.00797272]), 'score_time': array([0.00124264, 0.00127625, 0.00123787, 0.00132298, 0.00115514]), 'test_score': array([0.87115385, 0.84807692, 0.88065448, 0.85466795, 0.83830606])}\n"
          ]
        }
      ]
    },
    {
      "cell_type": "code",
      "source": [
        "import numpy as np\n",
        "print(np.mean(scores['test_score']))\n",
        "# 5개의 스코어의 평균을 낸 것\n",
        "# 최상의 검증 점수를 확인 가능"
      ],
      "metadata": {
        "colab": {
          "base_uri": "https://localhost:8080/"
        },
        "id": "DttjiSp8D5No",
        "outputId": "a03712e7-5807-4288-806e-0d8af3abb395"
      },
      "execution_count": 38,
      "outputs": [
        {
          "output_type": "stream",
          "name": "stdout",
          "text": [
            "0.858571851632487\n"
          ]
        }
      ]
    },
    {
      "cell_type": "code",
      "source": [
        "# 훈련세트를 섞는 과정\n",
        "from sklearn.model_selection import StratifiedKFold\n",
        "\n",
        "scores = cross_validate(dt, train_input, train_target, cv = StratifiedKFold())\n",
        "print(np.mean(scores['test_score']))"
      ],
      "metadata": {
        "colab": {
          "base_uri": "https://localhost:8080/"
        },
        "id": "91ZEZ5K5E2ua",
        "outputId": "a328a95a-b698-4a95-8617-df67061d8a83"
      },
      "execution_count": 39,
      "outputs": [
        {
          "output_type": "stream",
          "name": "stdout",
          "text": [
            "0.8574174502110017\n"
          ]
        }
      ]
    },
    {
      "cell_type": "code",
      "source": [
        "# 10-폴드 교차 검증\n",
        "\n",
        "splitter = StratifiedKFold(n_splits = 10, shuffle=True, random_state=42)\n",
        "# 10번 새로 분할하라\n",
        "# shuffle = True\n",
        "\n",
        "scores = cross_validate(dt, train_input, train_target, cv = splitter)\n",
        "print(np.mean(scores['test_score']))"
      ],
      "metadata": {
        "colab": {
          "base_uri": "https://localhost:8080/"
        },
        "id": "K4Cqoi-2Fha2",
        "outputId": "12d69ed2-19b8-4c2e-8172-cd515ea23e3a"
      },
      "execution_count": 40,
      "outputs": [
        {
          "output_type": "stream",
          "name": "stdout",
          "text": [
            "0.8576115310508374\n"
          ]
        }
      ]
    },
    {
      "cell_type": "markdown",
      "source": [
        "하이퍼파라미터 튜닝"
      ],
      "metadata": {
        "id": "Nd9wf4sMGaio"
      }
    },
    {
      "cell_type": "code",
      "source": [
        "# 머신러닝모델이 학습하는 파라미터\n",
        "# 하이퍼파라미터: 사용자가 지정해야하는 파라미터\n",
        "# 사이킷런 : 머신러닝 라이브러리 : 클래스/매개변수\n",
        "\n",
        "\n",
        "# max_depth, min_samples_split을 동시에 바꾸면서 최적의 값을 찾아야 한다\n",
        "# for 반복문으로 구현 > 그리드 서치\n"
      ],
      "metadata": {
        "id": "GI7R4OQBGYj7"
      },
      "execution_count": 41,
      "outputs": []
    },
    {
      "cell_type": "code",
      "source": [
        "# 그리드 서치 호출\n",
        "from sklearn.model_selection import GridSearchCV\n",
        "\n",
        "params = {'min_impurity_decrease': [0.0001, 0.0002, 0.0003, 0.004, 0.005]}\n",
        "# 5개의 값을 준비 한다\n",
        "\n",
        "# 그리드 서치의 객체를 생성\n",
        "gs = GridSearchCV(DecisionTreeClassifier(random_state = 42),\n",
        "                  params, n_jobs=-1)\n",
        "\n",
        "# min_impurity_decrease' 값을 바꿔가면 5번씩 실행\n",
        "# 5*5 = 25\n",
        "\n",
        "# 그리드 서치를 수행\n",
        "gs.fit(train_input, train_target)"
      ],
      "metadata": {
        "id": "PGi0arC5t9w6",
        "colab": {
          "base_uri": "https://localhost:8080/",
          "height": 118
        },
        "outputId": "19956fbc-607e-4130-ec52-2c665d6d4d87"
      },
      "execution_count": 42,
      "outputs": [
        {
          "output_type": "execute_result",
          "data": {
            "text/plain": [
              "GridSearchCV(estimator=DecisionTreeClassifier(random_state=42), n_jobs=-1,\n",
              "             param_grid={'min_impurity_decrease': [0.0001, 0.0002, 0.0003,\n",
              "                                                   0.004, 0.005]})"
            ],
            "text/html": [
              "<style>#sk-container-id-2 {color: black;}#sk-container-id-2 pre{padding: 0;}#sk-container-id-2 div.sk-toggleable {background-color: white;}#sk-container-id-2 label.sk-toggleable__label {cursor: pointer;display: block;width: 100%;margin-bottom: 0;padding: 0.3em;box-sizing: border-box;text-align: center;}#sk-container-id-2 label.sk-toggleable__label-arrow:before {content: \"▸\";float: left;margin-right: 0.25em;color: #696969;}#sk-container-id-2 label.sk-toggleable__label-arrow:hover:before {color: black;}#sk-container-id-2 div.sk-estimator:hover label.sk-toggleable__label-arrow:before {color: black;}#sk-container-id-2 div.sk-toggleable__content {max-height: 0;max-width: 0;overflow: hidden;text-align: left;background-color: #f0f8ff;}#sk-container-id-2 div.sk-toggleable__content pre {margin: 0.2em;color: black;border-radius: 0.25em;background-color: #f0f8ff;}#sk-container-id-2 input.sk-toggleable__control:checked~div.sk-toggleable__content {max-height: 200px;max-width: 100%;overflow: auto;}#sk-container-id-2 input.sk-toggleable__control:checked~label.sk-toggleable__label-arrow:before {content: \"▾\";}#sk-container-id-2 div.sk-estimator input.sk-toggleable__control:checked~label.sk-toggleable__label {background-color: #d4ebff;}#sk-container-id-2 div.sk-label input.sk-toggleable__control:checked~label.sk-toggleable__label {background-color: #d4ebff;}#sk-container-id-2 input.sk-hidden--visually {border: 0;clip: rect(1px 1px 1px 1px);clip: rect(1px, 1px, 1px, 1px);height: 1px;margin: -1px;overflow: hidden;padding: 0;position: absolute;width: 1px;}#sk-container-id-2 div.sk-estimator {font-family: monospace;background-color: #f0f8ff;border: 1px dotted black;border-radius: 0.25em;box-sizing: border-box;margin-bottom: 0.5em;}#sk-container-id-2 div.sk-estimator:hover {background-color: #d4ebff;}#sk-container-id-2 div.sk-parallel-item::after {content: \"\";width: 100%;border-bottom: 1px solid gray;flex-grow: 1;}#sk-container-id-2 div.sk-label:hover label.sk-toggleable__label {background-color: #d4ebff;}#sk-container-id-2 div.sk-serial::before {content: \"\";position: absolute;border-left: 1px solid gray;box-sizing: border-box;top: 0;bottom: 0;left: 50%;z-index: 0;}#sk-container-id-2 div.sk-serial {display: flex;flex-direction: column;align-items: center;background-color: white;padding-right: 0.2em;padding-left: 0.2em;position: relative;}#sk-container-id-2 div.sk-item {position: relative;z-index: 1;}#sk-container-id-2 div.sk-parallel {display: flex;align-items: stretch;justify-content: center;background-color: white;position: relative;}#sk-container-id-2 div.sk-item::before, #sk-container-id-2 div.sk-parallel-item::before {content: \"\";position: absolute;border-left: 1px solid gray;box-sizing: border-box;top: 0;bottom: 0;left: 50%;z-index: -1;}#sk-container-id-2 div.sk-parallel-item {display: flex;flex-direction: column;z-index: 1;position: relative;background-color: white;}#sk-container-id-2 div.sk-parallel-item:first-child::after {align-self: flex-end;width: 50%;}#sk-container-id-2 div.sk-parallel-item:last-child::after {align-self: flex-start;width: 50%;}#sk-container-id-2 div.sk-parallel-item:only-child::after {width: 0;}#sk-container-id-2 div.sk-dashed-wrapped {border: 1px dashed gray;margin: 0 0.4em 0.5em 0.4em;box-sizing: border-box;padding-bottom: 0.4em;background-color: white;}#sk-container-id-2 div.sk-label label {font-family: monospace;font-weight: bold;display: inline-block;line-height: 1.2em;}#sk-container-id-2 div.sk-label-container {text-align: center;}#sk-container-id-2 div.sk-container {/* jupyter's `normalize.less` sets `[hidden] { display: none; }` but bootstrap.min.css set `[hidden] { display: none !important; }` so we also need the `!important` here to be able to override the default hidden behavior on the sphinx rendered scikit-learn.org. See: https://github.com/scikit-learn/scikit-learn/issues/21755 */display: inline-block !important;position: relative;}#sk-container-id-2 div.sk-text-repr-fallback {display: none;}</style><div id=\"sk-container-id-2\" class=\"sk-top-container\"><div class=\"sk-text-repr-fallback\"><pre>GridSearchCV(estimator=DecisionTreeClassifier(random_state=42), n_jobs=-1,\n",
              "             param_grid={&#x27;min_impurity_decrease&#x27;: [0.0001, 0.0002, 0.0003,\n",
              "                                                   0.004, 0.005]})</pre><b>In a Jupyter environment, please rerun this cell to show the HTML representation or trust the notebook. <br />On GitHub, the HTML representation is unable to render, please try loading this page with nbviewer.org.</b></div><div class=\"sk-container\" hidden><div class=\"sk-item sk-dashed-wrapped\"><div class=\"sk-label-container\"><div class=\"sk-label sk-toggleable\"><input class=\"sk-toggleable__control sk-hidden--visually\" id=\"sk-estimator-id-4\" type=\"checkbox\" ><label for=\"sk-estimator-id-4\" class=\"sk-toggleable__label sk-toggleable__label-arrow\">GridSearchCV</label><div class=\"sk-toggleable__content\"><pre>GridSearchCV(estimator=DecisionTreeClassifier(random_state=42), n_jobs=-1,\n",
              "             param_grid={&#x27;min_impurity_decrease&#x27;: [0.0001, 0.0002, 0.0003,\n",
              "                                                   0.004, 0.005]})</pre></div></div></div><div class=\"sk-parallel\"><div class=\"sk-parallel-item\"><div class=\"sk-item\"><div class=\"sk-label-container\"><div class=\"sk-label sk-toggleable\"><input class=\"sk-toggleable__control sk-hidden--visually\" id=\"sk-estimator-id-5\" type=\"checkbox\" ><label for=\"sk-estimator-id-5\" class=\"sk-toggleable__label sk-toggleable__label-arrow\">estimator: DecisionTreeClassifier</label><div class=\"sk-toggleable__content\"><pre>DecisionTreeClassifier(random_state=42)</pre></div></div></div><div class=\"sk-serial\"><div class=\"sk-item\"><div class=\"sk-estimator sk-toggleable\"><input class=\"sk-toggleable__control sk-hidden--visually\" id=\"sk-estimator-id-6\" type=\"checkbox\" ><label for=\"sk-estimator-id-6\" class=\"sk-toggleable__label sk-toggleable__label-arrow\">DecisionTreeClassifier</label><div class=\"sk-toggleable__content\"><pre>DecisionTreeClassifier(random_state=42)</pre></div></div></div></div></div></div></div></div></div></div>"
            ]
          },
          "metadata": {},
          "execution_count": 42
        }
      ]
    },
    {
      "cell_type": "code",
      "source": [
        "# 검증 점수가 가 장 높은 모델의 매개변수로 지정\n",
        "\n",
        "dt = gs.best_estimator_\n",
        "print(dt.score(train_input, train_target))"
      ],
      "metadata": {
        "id": "90hJf8evu8-d",
        "colab": {
          "base_uri": "https://localhost:8080/"
        },
        "outputId": "3abe947f-0352-426e-80d5-4a051758403e"
      },
      "execution_count": 43,
      "outputs": [
        {
          "output_type": "stream",
          "name": "stdout",
          "text": [
            "0.9615162593804117\n"
          ]
        }
      ]
    },
    {
      "cell_type": "code",
      "source": [
        "print(gs.best_params_)\n",
        "# 가장 좋은 값으로 선택됨"
      ],
      "metadata": {
        "colab": {
          "base_uri": "https://localhost:8080/"
        },
        "id": "u2hDxftAhBdi",
        "outputId": "6d3a6e99-1514-45b0-a4ad-49b3e37deb63"
      },
      "execution_count": 44,
      "outputs": [
        {
          "output_type": "stream",
          "name": "stdout",
          "text": [
            "{'min_impurity_decrease': 0.0001}\n"
          ]
        }
      ]
    },
    {
      "cell_type": "code",
      "source": [
        "print(gs.cv_results_['mean_test_score'])"
      ],
      "metadata": {
        "colab": {
          "base_uri": "https://localhost:8080/"
        },
        "id": "Ie1onx74hH48",
        "outputId": "1ba9e8ba-c1b7-40a2-cbf9-b6ddcb74efe1"
      },
      "execution_count": 45,
      "outputs": [
        {
          "output_type": "stream",
          "name": "stdout",
          "text": [
            "[0.86819297 0.86453617 0.86492226 0.85414803 0.85318557]\n"
          ]
        }
      ]
    },
    {
      "cell_type": "code",
      "source": [
        "best_index = np.argmax(gs.cv_results_['mean_test_score'])\n",
        "print(gs.cv_results_['params'][best_index])"
      ],
      "metadata": {
        "colab": {
          "base_uri": "https://localhost:8080/"
        },
        "id": "OCf1BjSChWAS",
        "outputId": "25b8755d-d884-4c52-8018-34250768619e"
      },
      "execution_count": 46,
      "outputs": [
        {
          "output_type": "stream",
          "name": "stdout",
          "text": [
            "{'min_impurity_decrease': 0.0001}\n"
          ]
        }
      ]
    },
    {
      "cell_type": "code",
      "source": [
        "# 변수를 더 복잡하게!\n",
        "\n",
        "params = {'max_impurity_decrease': np.arange(0.0001, 0.001, 0.0001),\n",
        "          'max_depth': range(5,20,1), 'min_samples_split':range(2,100,10)}\n"
      ],
      "metadata": {
        "id": "RgHuRNucihFI"
      },
      "execution_count": 47,
      "outputs": []
    },
    {
      "cell_type": "code",
      "source": [
        "# 변수를 더 복잡하게!\n",
        "\n",
        "params = {'min_impurity_decrease': np.arange(0.0001, 0.001, 0.0001), # 'max_impurity_decrease'를 'min_impurity_decrease'로 수정\n",
        "          'max_depth': range(5,20,1), 'min_samples_split':range(2,100,10)}\n",
        "\n",
        "gs = GridSearchCV(DecisionTreeClassifier(random_state=42),\n",
        "                  params, n_jobs  =-1)\n",
        "gs.fit(train_input, train_target)"
      ],
      "metadata": {
        "colab": {
          "base_uri": "https://localhost:8080/",
          "height": 118
        },
        "id": "-y-pZBl0jPYX",
        "outputId": "3d7c7385-309b-454e-94e8-7ece5926420c"
      },
      "execution_count": 49,
      "outputs": [
        {
          "output_type": "execute_result",
          "data": {
            "text/plain": [
              "GridSearchCV(estimator=DecisionTreeClassifier(random_state=42), n_jobs=-1,\n",
              "             param_grid={'max_depth': range(5, 20),\n",
              "                         'min_impurity_decrease': array([0.0001, 0.0002, 0.0003, 0.0004, 0.0005, 0.0006, 0.0007, 0.0008,\n",
              "       0.0009]),\n",
              "                         'min_samples_split': range(2, 100, 10)})"
            ],
            "text/html": [
              "<style>#sk-container-id-3 {color: black;}#sk-container-id-3 pre{padding: 0;}#sk-container-id-3 div.sk-toggleable {background-color: white;}#sk-container-id-3 label.sk-toggleable__label {cursor: pointer;display: block;width: 100%;margin-bottom: 0;padding: 0.3em;box-sizing: border-box;text-align: center;}#sk-container-id-3 label.sk-toggleable__label-arrow:before {content: \"▸\";float: left;margin-right: 0.25em;color: #696969;}#sk-container-id-3 label.sk-toggleable__label-arrow:hover:before {color: black;}#sk-container-id-3 div.sk-estimator:hover label.sk-toggleable__label-arrow:before {color: black;}#sk-container-id-3 div.sk-toggleable__content {max-height: 0;max-width: 0;overflow: hidden;text-align: left;background-color: #f0f8ff;}#sk-container-id-3 div.sk-toggleable__content pre {margin: 0.2em;color: black;border-radius: 0.25em;background-color: #f0f8ff;}#sk-container-id-3 input.sk-toggleable__control:checked~div.sk-toggleable__content {max-height: 200px;max-width: 100%;overflow: auto;}#sk-container-id-3 input.sk-toggleable__control:checked~label.sk-toggleable__label-arrow:before {content: \"▾\";}#sk-container-id-3 div.sk-estimator input.sk-toggleable__control:checked~label.sk-toggleable__label {background-color: #d4ebff;}#sk-container-id-3 div.sk-label input.sk-toggleable__control:checked~label.sk-toggleable__label {background-color: #d4ebff;}#sk-container-id-3 input.sk-hidden--visually {border: 0;clip: rect(1px 1px 1px 1px);clip: rect(1px, 1px, 1px, 1px);height: 1px;margin: -1px;overflow: hidden;padding: 0;position: absolute;width: 1px;}#sk-container-id-3 div.sk-estimator {font-family: monospace;background-color: #f0f8ff;border: 1px dotted black;border-radius: 0.25em;box-sizing: border-box;margin-bottom: 0.5em;}#sk-container-id-3 div.sk-estimator:hover {background-color: #d4ebff;}#sk-container-id-3 div.sk-parallel-item::after {content: \"\";width: 100%;border-bottom: 1px solid gray;flex-grow: 1;}#sk-container-id-3 div.sk-label:hover label.sk-toggleable__label {background-color: #d4ebff;}#sk-container-id-3 div.sk-serial::before {content: \"\";position: absolute;border-left: 1px solid gray;box-sizing: border-box;top: 0;bottom: 0;left: 50%;z-index: 0;}#sk-container-id-3 div.sk-serial {display: flex;flex-direction: column;align-items: center;background-color: white;padding-right: 0.2em;padding-left: 0.2em;position: relative;}#sk-container-id-3 div.sk-item {position: relative;z-index: 1;}#sk-container-id-3 div.sk-parallel {display: flex;align-items: stretch;justify-content: center;background-color: white;position: relative;}#sk-container-id-3 div.sk-item::before, #sk-container-id-3 div.sk-parallel-item::before {content: \"\";position: absolute;border-left: 1px solid gray;box-sizing: border-box;top: 0;bottom: 0;left: 50%;z-index: -1;}#sk-container-id-3 div.sk-parallel-item {display: flex;flex-direction: column;z-index: 1;position: relative;background-color: white;}#sk-container-id-3 div.sk-parallel-item:first-child::after {align-self: flex-end;width: 50%;}#sk-container-id-3 div.sk-parallel-item:last-child::after {align-self: flex-start;width: 50%;}#sk-container-id-3 div.sk-parallel-item:only-child::after {width: 0;}#sk-container-id-3 div.sk-dashed-wrapped {border: 1px dashed gray;margin: 0 0.4em 0.5em 0.4em;box-sizing: border-box;padding-bottom: 0.4em;background-color: white;}#sk-container-id-3 div.sk-label label {font-family: monospace;font-weight: bold;display: inline-block;line-height: 1.2em;}#sk-container-id-3 div.sk-label-container {text-align: center;}#sk-container-id-3 div.sk-container {/* jupyter's `normalize.less` sets `[hidden] { display: none; }` but bootstrap.min.css set `[hidden] { display: none !important; }` so we also need the `!important` here to be able to override the default hidden behavior on the sphinx rendered scikit-learn.org. See: https://github.com/scikit-learn/scikit-learn/issues/21755 */display: inline-block !important;position: relative;}#sk-container-id-3 div.sk-text-repr-fallback {display: none;}</style><div id=\"sk-container-id-3\" class=\"sk-top-container\"><div class=\"sk-text-repr-fallback\"><pre>GridSearchCV(estimator=DecisionTreeClassifier(random_state=42), n_jobs=-1,\n",
              "             param_grid={&#x27;max_depth&#x27;: range(5, 20),\n",
              "                         &#x27;min_impurity_decrease&#x27;: array([0.0001, 0.0002, 0.0003, 0.0004, 0.0005, 0.0006, 0.0007, 0.0008,\n",
              "       0.0009]),\n",
              "                         &#x27;min_samples_split&#x27;: range(2, 100, 10)})</pre><b>In a Jupyter environment, please rerun this cell to show the HTML representation or trust the notebook. <br />On GitHub, the HTML representation is unable to render, please try loading this page with nbviewer.org.</b></div><div class=\"sk-container\" hidden><div class=\"sk-item sk-dashed-wrapped\"><div class=\"sk-label-container\"><div class=\"sk-label sk-toggleable\"><input class=\"sk-toggleable__control sk-hidden--visually\" id=\"sk-estimator-id-7\" type=\"checkbox\" ><label for=\"sk-estimator-id-7\" class=\"sk-toggleable__label sk-toggleable__label-arrow\">GridSearchCV</label><div class=\"sk-toggleable__content\"><pre>GridSearchCV(estimator=DecisionTreeClassifier(random_state=42), n_jobs=-1,\n",
              "             param_grid={&#x27;max_depth&#x27;: range(5, 20),\n",
              "                         &#x27;min_impurity_decrease&#x27;: array([0.0001, 0.0002, 0.0003, 0.0004, 0.0005, 0.0006, 0.0007, 0.0008,\n",
              "       0.0009]),\n",
              "                         &#x27;min_samples_split&#x27;: range(2, 100, 10)})</pre></div></div></div><div class=\"sk-parallel\"><div class=\"sk-parallel-item\"><div class=\"sk-item\"><div class=\"sk-label-container\"><div class=\"sk-label sk-toggleable\"><input class=\"sk-toggleable__control sk-hidden--visually\" id=\"sk-estimator-id-8\" type=\"checkbox\" ><label for=\"sk-estimator-id-8\" class=\"sk-toggleable__label sk-toggleable__label-arrow\">estimator: DecisionTreeClassifier</label><div class=\"sk-toggleable__content\"><pre>DecisionTreeClassifier(random_state=42)</pre></div></div></div><div class=\"sk-serial\"><div class=\"sk-item\"><div class=\"sk-estimator sk-toggleable\"><input class=\"sk-toggleable__control sk-hidden--visually\" id=\"sk-estimator-id-9\" type=\"checkbox\" ><label for=\"sk-estimator-id-9\" class=\"sk-toggleable__label sk-toggleable__label-arrow\">DecisionTreeClassifier</label><div class=\"sk-toggleable__content\"><pre>DecisionTreeClassifier(random_state=42)</pre></div></div></div></div></div></div></div></div></div></div>"
            ]
          },
          "metadata": {},
          "execution_count": 49
        }
      ]
    },
    {
      "cell_type": "code",
      "source": [
        "print(np.max(gs.cv_results_['mean_test_score']))\n",
        "\n",
        "# 매개변수 값을 나열하면 자동으로 교차검증을 수행해서 최상의 매개변수를 찾을 수 있음"
      ],
      "metadata": {
        "colab": {
          "base_uri": "https://localhost:8080/"
        },
        "id": "Q7QbaDhO4eo_",
        "outputId": "a566ac51-56d6-407f-e6d5-cf514659d13d"
      },
      "execution_count": 50,
      "outputs": [
        {
          "output_type": "stream",
          "name": "stdout",
          "text": [
            "0.8683865773302731\n"
          ]
        }
      ]
    },
    {
      "cell_type": "markdown",
      "source": [
        "랜덤 서치\n",
        "\n",
        "매개변수의 목록을 작성해서 주는 것은 범위나 간격에서 제약이 있음\n",
        "\n",
        "--> 확률분포의 객체를 전달한다\n",
        "\n",
        "scipy"
      ],
      "metadata": {
        "id": "NAfrpmnv4pby"
      }
    },
    {
      "cell_type": "code",
      "source": [
        "from scipy.stats import uniform, randint\n",
        "# 클래스 안 주어진 범위에서 고르게 값을 뽑는다\n",
        "# uniform : 실숫값\n",
        "# randint : 정숫값"
      ],
      "metadata": {
        "id": "zjCXdXeu6BCx"
      },
      "execution_count": 55,
      "outputs": []
    },
    {
      "cell_type": "code",
      "source": [
        "rgen = randint(0,10) # 0에서 10사이의 범위를 갖는 정수 객체를 만들자\n",
        "rgen.rvs(10) # 10개의 무작위 샘플을 반환"
      ],
      "metadata": {
        "colab": {
          "base_uri": "https://localhost:8080/"
        },
        "id": "CzwhbU5H4oAM",
        "outputId": "b3fdda3a-70fc-432b-8c36-624036369860"
      },
      "execution_count": 59,
      "outputs": [
        {
          "output_type": "execute_result",
          "data": {
            "text/plain": [
              "array([4, 1, 4, 9, 6, 0, 5, 2, 2, 5])"
            ]
          },
          "metadata": {},
          "execution_count": 59
        }
      ]
    },
    {
      "cell_type": "code",
      "source": [
        "np.unique(rgen.rvs(1000), return_counts = True)\n",
        "# 고유한 값이 0~9 가 각각 몇번 나타났는지를 보여주는 2개의 배열\n",
        "# 비슷하게 추출된것을 알 수 있다!"
      ],
      "metadata": {
        "colab": {
          "base_uri": "https://localhost:8080/"
        },
        "id": "eGgvrrrJ6T3W",
        "outputId": "c4697aeb-a676-40da-ce1c-54fcf282652b"
      },
      "execution_count": 58,
      "outputs": [
        {
          "output_type": "execute_result",
          "data": {
            "text/plain": [
              "(array([0, 1, 2, 3, 4, 5, 6, 7, 8, 9]),\n",
              " array([111,  91, 119, 116,  96,  85,  90,  95,  91, 106]))"
            ]
          },
          "metadata": {},
          "execution_count": 58
        }
      ]
    },
    {
      "cell_type": "code",
      "source": [
        "ugen = uniform(0,1)\n",
        "ugen.rvs(10)"
      ],
      "metadata": {
        "colab": {
          "base_uri": "https://localhost:8080/"
        },
        "id": "7gWcOHeM71AU",
        "outputId": "ae730b08-e0b0-4c4c-fd50-6097942b1bce"
      },
      "execution_count": 60,
      "outputs": [
        {
          "output_type": "execute_result",
          "data": {
            "text/plain": [
              "array([0.49410964, 0.64346423, 0.81966988, 0.39392884, 0.08611632,\n",
              "       0.11527661, 0.84483561, 0.24624359, 0.86810256, 0.49577337])"
            ]
          },
          "metadata": {},
          "execution_count": 60
        }
      ]
    },
    {
      "cell_type": "code",
      "source": [
        "# 매개변수의 범위 재설정(scipy)\n",
        "\n",
        "params  = {'min_impurity_decrease': uniform(0.0001, 0.001),\n",
        "           'max_depth': randint(20,50), # 트리의 최대깊이\n",
        "           'min_samples_split':randint(2,25), # 시작 노드의 최소 샘플 수\n",
        "           'min_samples_leaf': randint(1,25),} # 마지막 노드의 샘플 최소수"
      ],
      "metadata": {
        "id": "gIIxw3Dl7-zw"
      },
      "execution_count": 65,
      "outputs": []
    },
    {
      "cell_type": "code",
      "source": [
        "# 모델 훈련\n",
        "\n",
        "from sklearn.model_selection import RandomizedSearchCV\n",
        "\n",
        "gs  = RandomizedSearchCV(DecisionTreeClassifier(random_state=42),\n",
        "    params, n_iter = 100, n_jobs = -1, random_state=42)\n",
        "\n",
        "gs.fit(train_input, train_target)\n",
        "\n",
        "# n_iter : 무작위 조합을 몇번 선택할 것인지를 정해줌\n",
        "# n_jobs : 컴퓨터의 프로세서를 몇개를 사용할 것인가\n",
        "# random_state : 랜덤성을 제어하기위한 시드 값을 설정한다, 아니면 코드 중간에 돌릴때마다 계속 다은 값이 나옴\n",
        "\n"
      ],
      "metadata": {
        "colab": {
          "base_uri": "https://localhost:8080/",
          "height": 118
        },
        "id": "RShEF-2T8ZjR",
        "outputId": "24bc0031-1f20-436b-b737-c7e0c2084176"
      },
      "execution_count": 66,
      "outputs": [
        {
          "output_type": "execute_result",
          "data": {
            "text/plain": [
              "RandomizedSearchCV(estimator=DecisionTreeClassifier(random_state=42),\n",
              "                   n_iter=100, n_jobs=-1,\n",
              "                   param_distributions={'max_depth': <scipy.stats._distn_infrastructure.rv_discrete_frozen object at 0x7fbb72f51120>,\n",
              "                                        'min_impurity_decrease': <scipy.stats._distn_infrastructure.rv_continuous_frozen object at 0x7fbb72f50d00>,\n",
              "                                        'min_samples_leaf': <scipy.stats._distn_infrastructure.rv_discrete_frozen object at 0x7fbb72f532b0>,\n",
              "                                        'min_samples_split': <scipy.stats._distn_infrastructure.rv_discrete_frozen object at 0x7fbb72f53700>},\n",
              "                   random_state=42)"
            ],
            "text/html": [
              "<style>#sk-container-id-4 {color: black;}#sk-container-id-4 pre{padding: 0;}#sk-container-id-4 div.sk-toggleable {background-color: white;}#sk-container-id-4 label.sk-toggleable__label {cursor: pointer;display: block;width: 100%;margin-bottom: 0;padding: 0.3em;box-sizing: border-box;text-align: center;}#sk-container-id-4 label.sk-toggleable__label-arrow:before {content: \"▸\";float: left;margin-right: 0.25em;color: #696969;}#sk-container-id-4 label.sk-toggleable__label-arrow:hover:before {color: black;}#sk-container-id-4 div.sk-estimator:hover label.sk-toggleable__label-arrow:before {color: black;}#sk-container-id-4 div.sk-toggleable__content {max-height: 0;max-width: 0;overflow: hidden;text-align: left;background-color: #f0f8ff;}#sk-container-id-4 div.sk-toggleable__content pre {margin: 0.2em;color: black;border-radius: 0.25em;background-color: #f0f8ff;}#sk-container-id-4 input.sk-toggleable__control:checked~div.sk-toggleable__content {max-height: 200px;max-width: 100%;overflow: auto;}#sk-container-id-4 input.sk-toggleable__control:checked~label.sk-toggleable__label-arrow:before {content: \"▾\";}#sk-container-id-4 div.sk-estimator input.sk-toggleable__control:checked~label.sk-toggleable__label {background-color: #d4ebff;}#sk-container-id-4 div.sk-label input.sk-toggleable__control:checked~label.sk-toggleable__label {background-color: #d4ebff;}#sk-container-id-4 input.sk-hidden--visually {border: 0;clip: rect(1px 1px 1px 1px);clip: rect(1px, 1px, 1px, 1px);height: 1px;margin: -1px;overflow: hidden;padding: 0;position: absolute;width: 1px;}#sk-container-id-4 div.sk-estimator {font-family: monospace;background-color: #f0f8ff;border: 1px dotted black;border-radius: 0.25em;box-sizing: border-box;margin-bottom: 0.5em;}#sk-container-id-4 div.sk-estimator:hover {background-color: #d4ebff;}#sk-container-id-4 div.sk-parallel-item::after {content: \"\";width: 100%;border-bottom: 1px solid gray;flex-grow: 1;}#sk-container-id-4 div.sk-label:hover label.sk-toggleable__label {background-color: #d4ebff;}#sk-container-id-4 div.sk-serial::before {content: \"\";position: absolute;border-left: 1px solid gray;box-sizing: border-box;top: 0;bottom: 0;left: 50%;z-index: 0;}#sk-container-id-4 div.sk-serial {display: flex;flex-direction: column;align-items: center;background-color: white;padding-right: 0.2em;padding-left: 0.2em;position: relative;}#sk-container-id-4 div.sk-item {position: relative;z-index: 1;}#sk-container-id-4 div.sk-parallel {display: flex;align-items: stretch;justify-content: center;background-color: white;position: relative;}#sk-container-id-4 div.sk-item::before, #sk-container-id-4 div.sk-parallel-item::before {content: \"\";position: absolute;border-left: 1px solid gray;box-sizing: border-box;top: 0;bottom: 0;left: 50%;z-index: -1;}#sk-container-id-4 div.sk-parallel-item {display: flex;flex-direction: column;z-index: 1;position: relative;background-color: white;}#sk-container-id-4 div.sk-parallel-item:first-child::after {align-self: flex-end;width: 50%;}#sk-container-id-4 div.sk-parallel-item:last-child::after {align-self: flex-start;width: 50%;}#sk-container-id-4 div.sk-parallel-item:only-child::after {width: 0;}#sk-container-id-4 div.sk-dashed-wrapped {border: 1px dashed gray;margin: 0 0.4em 0.5em 0.4em;box-sizing: border-box;padding-bottom: 0.4em;background-color: white;}#sk-container-id-4 div.sk-label label {font-family: monospace;font-weight: bold;display: inline-block;line-height: 1.2em;}#sk-container-id-4 div.sk-label-container {text-align: center;}#sk-container-id-4 div.sk-container {/* jupyter's `normalize.less` sets `[hidden] { display: none; }` but bootstrap.min.css set `[hidden] { display: none !important; }` so we also need the `!important` here to be able to override the default hidden behavior on the sphinx rendered scikit-learn.org. See: https://github.com/scikit-learn/scikit-learn/issues/21755 */display: inline-block !important;position: relative;}#sk-container-id-4 div.sk-text-repr-fallback {display: none;}</style><div id=\"sk-container-id-4\" class=\"sk-top-container\"><div class=\"sk-text-repr-fallback\"><pre>RandomizedSearchCV(estimator=DecisionTreeClassifier(random_state=42),\n",
              "                   n_iter=100, n_jobs=-1,\n",
              "                   param_distributions={&#x27;max_depth&#x27;: &lt;scipy.stats._distn_infrastructure.rv_discrete_frozen object at 0x7fbb72f51120&gt;,\n",
              "                                        &#x27;min_impurity_decrease&#x27;: &lt;scipy.stats._distn_infrastructure.rv_continuous_frozen object at 0x7fbb72f50d00&gt;,\n",
              "                                        &#x27;min_samples_leaf&#x27;: &lt;scipy.stats._distn_infrastructure.rv_discrete_frozen object at 0x7fbb72f532b0&gt;,\n",
              "                                        &#x27;min_samples_split&#x27;: &lt;scipy.stats._distn_infrastructure.rv_discrete_frozen object at 0x7fbb72f53700&gt;},\n",
              "                   random_state=42)</pre><b>In a Jupyter environment, please rerun this cell to show the HTML representation or trust the notebook. <br />On GitHub, the HTML representation is unable to render, please try loading this page with nbviewer.org.</b></div><div class=\"sk-container\" hidden><div class=\"sk-item sk-dashed-wrapped\"><div class=\"sk-label-container\"><div class=\"sk-label sk-toggleable\"><input class=\"sk-toggleable__control sk-hidden--visually\" id=\"sk-estimator-id-10\" type=\"checkbox\" ><label for=\"sk-estimator-id-10\" class=\"sk-toggleable__label sk-toggleable__label-arrow\">RandomizedSearchCV</label><div class=\"sk-toggleable__content\"><pre>RandomizedSearchCV(estimator=DecisionTreeClassifier(random_state=42),\n",
              "                   n_iter=100, n_jobs=-1,\n",
              "                   param_distributions={&#x27;max_depth&#x27;: &lt;scipy.stats._distn_infrastructure.rv_discrete_frozen object at 0x7fbb72f51120&gt;,\n",
              "                                        &#x27;min_impurity_decrease&#x27;: &lt;scipy.stats._distn_infrastructure.rv_continuous_frozen object at 0x7fbb72f50d00&gt;,\n",
              "                                        &#x27;min_samples_leaf&#x27;: &lt;scipy.stats._distn_infrastructure.rv_discrete_frozen object at 0x7fbb72f532b0&gt;,\n",
              "                                        &#x27;min_samples_split&#x27;: &lt;scipy.stats._distn_infrastructure.rv_discrete_frozen object at 0x7fbb72f53700&gt;},\n",
              "                   random_state=42)</pre></div></div></div><div class=\"sk-parallel\"><div class=\"sk-parallel-item\"><div class=\"sk-item\"><div class=\"sk-label-container\"><div class=\"sk-label sk-toggleable\"><input class=\"sk-toggleable__control sk-hidden--visually\" id=\"sk-estimator-id-11\" type=\"checkbox\" ><label for=\"sk-estimator-id-11\" class=\"sk-toggleable__label sk-toggleable__label-arrow\">estimator: DecisionTreeClassifier</label><div class=\"sk-toggleable__content\"><pre>DecisionTreeClassifier(random_state=42)</pre></div></div></div><div class=\"sk-serial\"><div class=\"sk-item\"><div class=\"sk-estimator sk-toggleable\"><input class=\"sk-toggleable__control sk-hidden--visually\" id=\"sk-estimator-id-12\" type=\"checkbox\" ><label for=\"sk-estimator-id-12\" class=\"sk-toggleable__label sk-toggleable__label-arrow\">DecisionTreeClassifier</label><div class=\"sk-toggleable__content\"><pre>DecisionTreeClassifier(random_state=42)</pre></div></div></div></div></div></div></div></div></div></div>"
            ]
          },
          "metadata": {},
          "execution_count": 66
        }
      ]
    },
    {
      "cell_type": "code",
      "source": [
        "# 최적의 매개변수 조합은?\n",
        "\n",
        "print(gs.best_params_)"
      ],
      "metadata": {
        "colab": {
          "base_uri": "https://localhost:8080/"
        },
        "id": "25UFzO8S9YXA",
        "outputId": "1f4764fa-87e1-4f18-deb8-0213a8bb8887"
      },
      "execution_count": 68,
      "outputs": [
        {
          "output_type": "stream",
          "name": "stdout",
          "text": [
            "{'max_depth': 39, 'min_impurity_decrease': 0.00034102546602601173, 'min_samples_leaf': 7, 'min_samples_split': 13}\n"
          ]
        }
      ]
    },
    {
      "cell_type": "code",
      "source": [
        "# 교차검증의 점수는?\n",
        "\n",
        "print(np.max(gs.cv_results_['mean_test_score']))"
      ],
      "metadata": {
        "colab": {
          "base_uri": "https://localhost:8080/"
        },
        "id": "lZC7gBPvAR5F",
        "outputId": "36c5befa-7ed3-4d0c-a37c-3aa51e2ff192"
      },
      "execution_count": 70,
      "outputs": [
        {
          "output_type": "stream",
          "name": "stdout",
          "text": [
            "0.8695428296438884\n"
          ]
        }
      ]
    },
    {
      "cell_type": "code",
      "source": [
        "# 테스트 세트의 점수는?\n",
        "\n",
        "dt = gs.best_estimator_\n",
        "print(dt.score(test_input, test_target))"
      ],
      "metadata": {
        "colab": {
          "base_uri": "https://localhost:8080/"
        },
        "id": "yMVZln2DAawn",
        "outputId": "e6840978-a820-4776-e6d6-6a3f13ceafb9"
      },
      "execution_count": 73,
      "outputs": [
        {
          "output_type": "stream",
          "name": "stdout",
          "text": [
            "0.86\n"
          ]
        }
      ]
    },
    {
      "cell_type": "code",
      "source": [],
      "metadata": {
        "id": "Y4enT0KzAoQ_"
      },
      "execution_count": null,
      "outputs": []
    }
  ]
}